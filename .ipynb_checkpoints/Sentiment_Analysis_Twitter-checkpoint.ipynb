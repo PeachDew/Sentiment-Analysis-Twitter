{
 "cells": [
  {
   "cell_type": "code",
   "execution_count": 1,
   "id": "e8f9f4de-571a-4973-a428-39aa5f0d08a7",
   "metadata": {
    "tags": []
   },
   "outputs": [],
   "source": [
    "import pandas as pd\n",
    "import matplotlib.pyplot as plt\n",
    "import seaborn as sns\n",
    "import numpy as np"
   ]
  },
  {
   "cell_type": "code",
   "execution_count": 2,
   "id": "c0ff8e9f-4519-46af-83ae-e49f862b07a9",
   "metadata": {
    "tags": []
   },
   "outputs": [
    {
     "data": {
      "text/html": [
       "<div>\n",
       "<style scoped>\n",
       "    .dataframe tbody tr th:only-of-type {\n",
       "        vertical-align: middle;\n",
       "    }\n",
       "\n",
       "    .dataframe tbody tr th {\n",
       "        vertical-align: top;\n",
       "    }\n",
       "\n",
       "    .dataframe thead th {\n",
       "        text-align: right;\n",
       "    }\n",
       "</style>\n",
       "<table border=\"1\" class=\"dataframe\">\n",
       "  <thead>\n",
       "    <tr style=\"text-align: right;\">\n",
       "      <th></th>\n",
       "      <th>target</th>\n",
       "      <th>id</th>\n",
       "      <th>date</th>\n",
       "      <th>flag</th>\n",
       "      <th>user</th>\n",
       "      <th>tweet_text</th>\n",
       "    </tr>\n",
       "  </thead>\n",
       "  <tbody>\n",
       "    <tr>\n",
       "      <th>0</th>\n",
       "      <td>0</td>\n",
       "      <td>1467810369</td>\n",
       "      <td>Mon Apr 06 22:19:45 PDT 2009</td>\n",
       "      <td>NO_QUERY</td>\n",
       "      <td>_TheSpecialOne_</td>\n",
       "      <td>@switchfoot http://twitpic.com/2y1zl - Awww, t...</td>\n",
       "    </tr>\n",
       "    <tr>\n",
       "      <th>1</th>\n",
       "      <td>0</td>\n",
       "      <td>1467810672</td>\n",
       "      <td>Mon Apr 06 22:19:49 PDT 2009</td>\n",
       "      <td>NO_QUERY</td>\n",
       "      <td>scotthamilton</td>\n",
       "      <td>is upset that he can't update his Facebook by ...</td>\n",
       "    </tr>\n",
       "    <tr>\n",
       "      <th>2</th>\n",
       "      <td>0</td>\n",
       "      <td>1467810917</td>\n",
       "      <td>Mon Apr 06 22:19:53 PDT 2009</td>\n",
       "      <td>NO_QUERY</td>\n",
       "      <td>mattycus</td>\n",
       "      <td>@Kenichan I dived many times for the ball. Man...</td>\n",
       "    </tr>\n",
       "    <tr>\n",
       "      <th>3</th>\n",
       "      <td>0</td>\n",
       "      <td>1467811184</td>\n",
       "      <td>Mon Apr 06 22:19:57 PDT 2009</td>\n",
       "      <td>NO_QUERY</td>\n",
       "      <td>ElleCTF</td>\n",
       "      <td>my whole body feels itchy and like its on fire</td>\n",
       "    </tr>\n",
       "    <tr>\n",
       "      <th>4</th>\n",
       "      <td>0</td>\n",
       "      <td>1467811193</td>\n",
       "      <td>Mon Apr 06 22:19:57 PDT 2009</td>\n",
       "      <td>NO_QUERY</td>\n",
       "      <td>Karoli</td>\n",
       "      <td>@nationwideclass no, it's not behaving at all....</td>\n",
       "    </tr>\n",
       "  </tbody>\n",
       "</table>\n",
       "</div>"
      ],
      "text/plain": [
       "   target          id                          date      flag   \n",
       "0       0  1467810369  Mon Apr 06 22:19:45 PDT 2009  NO_QUERY  \\\n",
       "1       0  1467810672  Mon Apr 06 22:19:49 PDT 2009  NO_QUERY   \n",
       "2       0  1467810917  Mon Apr 06 22:19:53 PDT 2009  NO_QUERY   \n",
       "3       0  1467811184  Mon Apr 06 22:19:57 PDT 2009  NO_QUERY   \n",
       "4       0  1467811193  Mon Apr 06 22:19:57 PDT 2009  NO_QUERY   \n",
       "\n",
       "              user                                         tweet_text  \n",
       "0  _TheSpecialOne_  @switchfoot http://twitpic.com/2y1zl - Awww, t...  \n",
       "1    scotthamilton  is upset that he can't update his Facebook by ...  \n",
       "2         mattycus  @Kenichan I dived many times for the ball. Man...  \n",
       "3          ElleCTF    my whole body feels itchy and like its on fire   \n",
       "4           Karoli  @nationwideclass no, it's not behaving at all....  "
      ]
     },
     "execution_count": 2,
     "metadata": {},
     "output_type": "execute_result"
    }
   ],
   "source": [
    "df = pd.read_csv('twitter_data/tweets.csv', encoding=\"ISO-8859-1\",\n",
    "                 names=['target','id','date','flag','user','tweet_text'])\n",
    "df.head()"
   ]
  },
  {
   "cell_type": "code",
   "execution_count": 3,
   "id": "e87b88e4-08f1-416e-8d28-cbe059ad3265",
   "metadata": {
    "tags": []
   },
   "outputs": [
    {
     "name": "stdout",
     "output_type": "stream",
     "text": [
      "<class 'pandas.core.frame.DataFrame'>\n",
      "RangeIndex: 1600000 entries, 0 to 1599999\n",
      "Data columns (total 6 columns):\n",
      " #   Column      Non-Null Count    Dtype \n",
      "---  ------      --------------    ----- \n",
      " 0   target      1600000 non-null  int64 \n",
      " 1   id          1600000 non-null  int64 \n",
      " 2   date        1600000 non-null  object\n",
      " 3   flag        1600000 non-null  object\n",
      " 4   user        1600000 non-null  object\n",
      " 5   tweet_text  1600000 non-null  object\n",
      "dtypes: int64(2), object(4)\n",
      "memory usage: 73.2+ MB\n"
     ]
    }
   ],
   "source": [
    "# No missing values, nice!\n",
    "df.info()"
   ]
  },
  {
   "cell_type": "code",
   "execution_count": 4,
   "id": "5e1dcae4-0214-4528-b080-de6f4ef2e275",
   "metadata": {
    "tags": []
   },
   "outputs": [
    {
     "name": "stdout",
     "output_type": "stream",
     "text": [
      "flag\n",
      "NO_QUERY    1600000\n",
      "Name: count, dtype: int64\n"
     ]
    }
   ],
   "source": [
    "print(df.flag.value_counts())\n",
    "# Redundant column\n",
    "df = df.drop(\"flag\", axis=1)"
   ]
  },
  {
   "cell_type": "markdown",
   "id": "bf531d07-2835-453d-9f49-7c94dc92f1ff",
   "metadata": {},
   "source": [
    "### Some Basic EDA"
   ]
  },
  {
   "cell_type": "code",
   "execution_count": 6,
   "id": "f1dc9715-d9ab-47d0-b8a1-ef31d49bca06",
   "metadata": {
    "tags": []
   },
   "outputs": [
    {
     "data": {
      "image/png": "[encoded data removed]",
      "text/plain": [
       "<Figure size 640x480 with 1 Axes>"
      ]
     },
     "metadata": {},
     "output_type": "display_data"
    }
   ],
   "source": [
    "sns.countplot(data=df, x='target')\n",
    "plt.xlabel('Sentiment Class')\n",
    "plt.ylabel('Count')\n",
    "plt.title('Target Distribution')\n",
    "plt.show()\n",
    "# Plot shows we have a balanced dataset"
   ]
  },
  {
   "cell_type": "code",
   "execution_count": 7,
   "id": "eaaa48ba-d058-4b79-8dfb-2edbd19910dd",
   "metadata": {
    "tags": []
   },
   "outputs": [
    {
     "name": "stdout",
     "output_type": "stream",
     "text": [
      "##TWEET 1:## Is lookin 4ward to a long weekend  really dont want to go to work 2day tho =[ x\n",
      "##TWEET 2:## #myweakness  Is music and i live to meet the people who make it \n",
      "##TWEET 3:## figured out the Internet on my new iPod \n",
      "##TWEET 4:## @hillsongunited can't wait to worship with you guys tonight. it'll be so much fun \n",
      "##TWEET 5:## @sillybeggar Congrats James !! I'm sure the book is going to be a huge success \n",
      "##TWEET 6:## @DebbyBruck beautiful! when children smile the world smiles \n",
      "##TWEET 7:## @bethofalltrades http://twitpic.com/69bs9 - happy birthday! \n",
      "##TWEET 8:## @ad_infinitum Why yes, I can. The Ultimate Vegan Guide by Eric Marcus: http://bit.ly/rQp7n You can always ask me anything, you know. \n",
      "##TWEET 9:## getting all the writing off of mee. fun nightt \n",
      "##TWEET 10:## @noopman Remote? I prefer to be on site.  There's no substitute for working with people in person\n"
     ]
    }
   ],
   "source": [
    "good_tweets = df.loc[df['target'] == 4, 'tweet_text'].sample(n=10, random_state=42)\n",
    "for i, tweet in enumerate(good_tweets.tolist()):\n",
    "    print(f\"##TWEET {i+1}:## {tweet}\")"
   ]
  },
  {
   "cell_type": "code",
   "execution_count": 8,
   "id": "4cb7ef19-c890-41ee-8e23-8cbf3b33209c",
   "metadata": {
    "tags": []
   },
   "outputs": [
    {
     "name": "stdout",
     "output_type": "stream",
     "text": [
      "##TWEET 1:## @xnausikaax oh no! where did u order from? that's horrible \n",
      "##TWEET 2:## A great hard training weekend is over.  a couple days of rest and lets do it again!  Lots of computer time to put in now \n",
      "##TWEET 3:## Right, off to work  Only 5 hours to go until I'm free xD\n",
      "##TWEET 4:## I am craving for japanese food \n",
      "##TWEET 5:## Jean Michel Jarre concert tomorrow  gotta work 7-3 before though \n",
      "##TWEET 6:## @xPowxBangxBoomx dammiitt!! i wish i had MTV \n",
      "##TWEET 7:## @Rohan_01 You know..it's really sad that u know that ur classmate don't care about you..        sad memories T.T\n",
      "##TWEET 8:## @FaketragedyCom i know \n",
      "##TWEET 9:## @JudahGabriel i wish i had that much to say \n",
      "##TWEET 10:## ow, i can't move my neck or my back   hurts too much and i don't know why D:\n"
     ]
    }
   ],
   "source": [
    "bad_tweets = df.loc[df['target'] == 0, 'tweet_text'].sample(n=10, random_state=42)\n",
    "for i, tweet in enumerate(bad_tweets.tolist()):\n",
    "    print(f\"##TWEET {i+1}:## {tweet}\")"
   ]
  },
  {
   "cell_type": "code",
   "execution_count": 9,
   "id": "a376adbf-61e4-45fe-8e75-f6e3d8f7ac2f",
   "metadata": {
    "tags": []
   },
   "outputs": [
    {
     "data": {
      "text/html": [
       "<div>\n",
       "<style scoped>\n",
       "    .dataframe tbody tr th:only-of-type {\n",
       "        vertical-align: middle;\n",
       "    }\n",
       "\n",
       "    .dataframe tbody tr th {\n",
       "        vertical-align: top;\n",
       "    }\n",
       "\n",
       "    .dataframe thead th {\n",
       "        text-align: right;\n",
       "    }\n",
       "</style>\n",
       "<table border=\"1\" class=\"dataframe\">\n",
       "  <thead>\n",
       "    <tr style=\"text-align: right;\">\n",
       "      <th></th>\n",
       "      <th>target</th>\n",
       "      <th>id</th>\n",
       "      <th>date</th>\n",
       "      <th>user</th>\n",
       "      <th>tweet_text</th>\n",
       "    </tr>\n",
       "  </thead>\n",
       "  <tbody>\n",
       "    <tr>\n",
       "      <th>0</th>\n",
       "      <td>0</td>\n",
       "      <td>1467810369</td>\n",
       "      <td>Mon Apr 06 22:19:45 PDT 2009</td>\n",
       "      <td>_TheSpecialOne_</td>\n",
       "      <td>@switchfoot http://twitpic.com/2y1zl - Awww, t...</td>\n",
       "    </tr>\n",
       "    <tr>\n",
       "      <th>1</th>\n",
       "      <td>0</td>\n",
       "      <td>1467810672</td>\n",
       "      <td>Mon Apr 06 22:19:49 PDT 2009</td>\n",
       "      <td>scotthamilton</td>\n",
       "      <td>is upset that he can't update his Facebook by ...</td>\n",
       "    </tr>\n",
       "    <tr>\n",
       "      <th>2</th>\n",
       "      <td>0</td>\n",
       "      <td>1467810917</td>\n",
       "      <td>Mon Apr 06 22:19:53 PDT 2009</td>\n",
       "      <td>mattycus</td>\n",
       "      <td>@Kenichan I dived many times for the ball. Man...</td>\n",
       "    </tr>\n",
       "    <tr>\n",
       "      <th>3</th>\n",
       "      <td>0</td>\n",
       "      <td>1467811184</td>\n",
       "      <td>Mon Apr 06 22:19:57 PDT 2009</td>\n",
       "      <td>ElleCTF</td>\n",
       "      <td>my whole body feels itchy and like its on fire</td>\n",
       "    </tr>\n",
       "    <tr>\n",
       "      <th>4</th>\n",
       "      <td>0</td>\n",
       "      <td>1467811193</td>\n",
       "      <td>Mon Apr 06 22:19:57 PDT 2009</td>\n",
       "      <td>Karoli</td>\n",
       "      <td>@nationwideclass no, it's not behaving at all....</td>\n",
       "    </tr>\n",
       "  </tbody>\n",
       "</table>\n",
       "</div>"
      ],
      "text/plain": [
       "   target          id                          date             user   \n",
       "0       0  1467810369  Mon Apr 06 22:19:45 PDT 2009  _TheSpecialOne_  \\\n",
       "1       0  1467810672  Mon Apr 06 22:19:49 PDT 2009    scotthamilton   \n",
       "2       0  1467810917  Mon Apr 06 22:19:53 PDT 2009         mattycus   \n",
       "3       0  1467811184  Mon Apr 06 22:19:57 PDT 2009          ElleCTF   \n",
       "4       0  1467811193  Mon Apr 06 22:19:57 PDT 2009           Karoli   \n",
       "\n",
       "                                          tweet_text  \n",
       "0  @switchfoot http://twitpic.com/2y1zl - Awww, t...  \n",
       "1  is upset that he can't update his Facebook by ...  \n",
       "2  @Kenichan I dived many times for the ball. Man...  \n",
       "3    my whole body feels itchy and like its on fire   \n",
       "4  @nationwideclass no, it's not behaving at all....  "
      ]
     },
     "execution_count": 9,
     "metadata": {},
     "output_type": "execute_result"
    }
   ],
   "source": [
    "df.head()"
   ]
  },
  {
   "cell_type": "code",
   "execution_count": 5,
   "id": "c1c49d9f-b919-4588-8e08-c91750c3bddc",
   "metadata": {
    "tags": []
   },
   "outputs": [
    {
     "name": "stdout",
     "output_type": "stream",
     "text": [
      "<class 'pandas.core.frame.DataFrame'>\n",
      "RangeIndex: 1600000 entries, 0 to 1599999\n",
      "Data columns (total 5 columns):\n",
      " #   Column      Non-Null Count    Dtype \n",
      "---  ------      --------------    ----- \n",
      " 0   target      1600000 non-null  int64 \n",
      " 1   id          1600000 non-null  int64 \n",
      " 2   date        1600000 non-null  object\n",
      " 3   user        1600000 non-null  object\n",
      " 4   tweet_text  1600000 non-null  object\n",
      "dtypes: int64(2), object(3)\n",
      "memory usage: 61.0+ MB\n",
      "None\n"
     ]
    },
    {
     "name": "stderr",
     "output_type": "stream",
     "text": [
      "/usr/local/lib/python3.10/dist-packages/dateutil/parser/_parser.py:1207: UnknownTimezoneWarning: tzname PDT identified but not understood.  Pass `tzinfos` argument in order to correctly return a timezone-aware datetime.  In a future version, this will raise an exception.\n",
      "  warnings.warn(\"tzname {tzname} identified but not understood.  \"\n"
     ]
    },
    {
     "name": "stdout",
     "output_type": "stream",
     "text": [
      "<class 'pandas.core.frame.DataFrame'>\n",
      "RangeIndex: 1600000 entries, 0 to 1599999\n",
      "Data columns (total 6 columns):\n",
      " #   Column       Non-Null Count    Dtype         \n",
      "---  ------       --------------    -----         \n",
      " 0   target       1600000 non-null  int64         \n",
      " 1   id           1600000 non-null  int64         \n",
      " 2   date         1600000 non-null  object        \n",
      " 3   user         1600000 non-null  object        \n",
      " 4   tweet_text   1600000 non-null  object        \n",
      " 5   date_parsed  1600000 non-null  datetime64[ns]\n",
      "dtypes: datetime64[ns](1), int64(2), object(3)\n",
      "memory usage: 73.2+ MB\n"
     ]
    }
   ],
   "source": [
    "from dateutil import parser\n",
    "print(df.info())\n",
    "df['date_parsed'] = df['date'].apply(lambda x: parser.parse(x))\n",
    "df.info()"
   ]
  },
  {
   "cell_type": "code",
   "execution_count": 7,
   "id": "8eccf937-66e9-4498-8fca-11f8fc06d4b3",
   "metadata": {
    "tags": []
   },
   "outputs": [
    {
     "data": {
      "text/plain": [
       "date_parsed\n",
       "2009    1600000\n",
       "Name: count, dtype: int64"
      ]
     },
     "execution_count": 7,
     "metadata": {},
     "output_type": "execute_result"
    },
    {
     "data": {
      "image/png": "[encoded data removed]",
      "text/plain": [
       "<Figure size 1200x400 with 3 Axes>"
      ]
     },
     "metadata": {},
     "output_type": "display_data"
    }
   ],
   "source": [
    "years = df.date_parsed.dt.year\n",
    "months = df.date_parsed.dt.month\n",
    "days = df.date_parsed.dt.day\n",
    "hours = df.date_parsed.dt.hour\n",
    "\n",
    "fig, axes = plt.subplots(1, 3, figsize=(12, 4))\n",
    "sns.histplot(days, kde=False, ax=axes[0],binwidth=0.5)\n",
    "axes[0].set_title('Distribution by Day')\n",
    "axes[0].set_xlabel('Day')\n",
    "axes[0].set_ylabel('Count')\n",
    "axes[0].set_xticks(range(1, 31, 4))\n",
    "sns.histplot(months, kde=False, ax=axes[1],binwidth=0.5)\n",
    "axes[1].set_title('Distribution by Month')\n",
    "axes[1].set_xlabel('Month')\n",
    "axes[1].set_ylabel('Count')\n",
    "axes[1].set_xticks(range(1, 12))\n",
    "sns.histplot(hours, kde=False, ax=axes[2],binwidth=0.5)\n",
    "axes[2].set_title('Distribution by Hour')\n",
    "axes[2].set_xlabel('Hour')\n",
    "axes[2].set_ylabel('Count')\n",
    "axes[2].set_xticks(range(0,23,4))\n",
    "years.value_counts()\n",
    "# All data from 2009, from months April to June"
   ]
  },
  {
   "cell_type": "code",
   "execution_count": 8,
   "id": "d43cecaa-f238-443f-aa03-284368fe33e2",
   "metadata": {
    "tags": []
   },
   "outputs": [
    {
     "name": "stdout",
     "output_type": "stream",
     "text": [
      "<class 'pandas.core.frame.DataFrame'>\n",
      "RangeIndex: 1600000 entries, 0 to 1599999\n",
      "Data columns (total 7 columns):\n",
      " #   Column      Non-Null Count    Dtype \n",
      "---  ------      --------------    ----- \n",
      " 0   target      1600000 non-null  int64 \n",
      " 1   id          1600000 non-null  int64 \n",
      " 2   user        1600000 non-null  object\n",
      " 3   tweet_text  1600000 non-null  object\n",
      " 4   day         1600000 non-null  int32 \n",
      " 5   month       1600000 non-null  int32 \n",
      " 6   hour        1600000 non-null  int32 \n",
      "dtypes: int32(3), int64(2), object(2)\n",
      "memory usage: 67.1+ MB\n"
     ]
    }
   ],
   "source": [
    "# We only keep day, month and hour, all tweet come from same year\n",
    "df['day'] = days\n",
    "df['month'] = months\n",
    "df['hour'] = hours\n",
    "df = df.drop('date', axis=1)\n",
    "df = df.drop('date_parsed', axis=1)\n",
    "df.info()"
   ]
  },
  {
   "cell_type": "code",
   "execution_count": 13,
   "id": "fa6ab0b4-aa14-4a79-a87b-0c1e7ad911ff",
   "metadata": {
    "tags": []
   },
   "outputs": [
    {
     "data": {
      "text/plain": [
       "array([0, 4])"
      ]
     },
     "execution_count": 13,
     "metadata": {},
     "output_type": "execute_result"
    }
   ],
   "source": [
    "df.target.unique()"
   ]
  },
  {
   "cell_type": "code",
   "execution_count": 14,
   "id": "abdca11d-dd70-4855-a6c3-146f445c57ff",
   "metadata": {
    "tags": []
   },
   "outputs": [
    {
     "data": {
      "text/plain": [
       "<Axes: xlabel='month', ylabel='count'>"
      ]
     },
     "execution_count": 14,
     "metadata": {},
     "output_type": "execute_result"
    },
    {
     "data": {
      "image/png": "[encoded data removed]",
      "text/plain": [
       "<Figure size 640x480 with 1 Axes>"
      ]
     },
     "metadata": {},
     "output_type": "display_data"
    }
   ],
   "source": [
    "positive_tweets = df[df['target'] == 4]  # Filter positive tweets\n",
    "positive_tweets_by_month = positive_tweets.groupby('month').size().reset_index(name='count')\n",
    "\n",
    "sns.barplot(x='month', y='count', data=positive_tweets_by_month)"
   ]
  },
  {
   "cell_type": "code",
   "execution_count": 15,
   "id": "31287d81-6110-49e0-bbfb-dbe4fe149dee",
   "metadata": {
    "tags": []
   },
   "outputs": [
    {
     "data": {
      "image/png": "[encoded data removed]",
      "text/plain": [
       "<Figure size 640x480 with 1 Axes>"
      ]
     },
     "metadata": {},
     "output_type": "display_data"
    }
   ],
   "source": [
    "positive_tweets = df[df['target'] == 4]\n",
    "negative_tweets = df[df['target'] == 0]\n",
    "\n",
    "positive_tweets_by_month = positive_tweets.groupby('month').size().reset_index(name='positive_count')\n",
    "negative_tweets_by_month = negative_tweets.groupby('month').size().reset_index(name='negative_count')\n",
    "\n",
    "merged_counts = positive_tweets_by_month.merge(negative_tweets_by_month, on='month', how='outer').fillna(0)\n",
    "sns.barplot(x='month', y='positive_count', data=merged_counts, color='blue', alpha=0.5, label='Positive Tweets')\n",
    "sns.barplot(x='month', y='negative_count', data=merged_counts, color='red', alpha=0.5, label='Negative Tweets')\n",
    "plt.xlabel('Month')\n",
    "plt.ylabel('Count')\n",
    "plt.title('Number of Positive and Negative Tweets by Month (Overlayed)')\n",
    "plt.legend()\n",
    "plt.show()"
   ]
  },
  {
   "cell_type": "code",
   "execution_count": 16,
   "id": "acc9d2f0-8c49-4588-b295-01b96a7776a2",
   "metadata": {
    "tags": []
   },
   "outputs": [
    {
     "data": {
      "image/png": "[encoded data removed]",
      "text/plain": [
       "<Figure size 640x480 with 1 Axes>"
      ]
     },
     "metadata": {},
     "output_type": "display_data"
    }
   ],
   "source": [
    "# Stacked bar plot\n",
    "fig, ax = plt.subplots()\n",
    "sns.barplot(x='month', y='positive_count', data=merged_counts, color='blue', alpha=0.5, label='Positive Tweets', ax=ax)\n",
    "sns.barplot(x='month', y='negative_count', data=merged_counts, color='red', alpha=0.5, label='Negative Tweets', ax=ax, bottom=merged_counts['positive_count'])\n",
    "plt.xlabel('Month')\n",
    "plt.ylabel('Count')\n",
    "plt.title('Number of Positive and Negative Tweets by Month (Stacked)')\n",
    "plt.legend()\n",
    "plt.show()"
   ]
  },
  {
   "cell_type": "code",
   "execution_count": 17,
   "id": "4b3e4de0-d556-408b-93c1-6a05a7ad70ed",
   "metadata": {
    "tags": []
   },
   "outputs": [
    {
     "data": {
      "image/png": "[encoded data removed]",
      "text/plain": [
       "<Figure size 640x480 with 1 Axes>"
      ]
     },
     "metadata": {},
     "output_type": "display_data"
    }
   ],
   "source": [
    "positive_tweets_by_hour = positive_tweets.groupby('hour').size().reset_index(name='positive_count')\n",
    "negative_tweets_by_hour = negative_tweets.groupby('hour').size().reset_index(name='negative_count')\n",
    "merged_counts = positive_tweets_by_hour.merge(negative_tweets_by_hour, on='hour', how='outer').fillna(0)\n",
    "\n",
    "fig, ax = plt.subplots()\n",
    "sns.barplot(x='hour', y='positive_count', data=merged_counts, color='blue', alpha=0.7, label='Positive Tweets', ax=ax)\n",
    "sns.barplot(x='hour', y='negative_count', data=merged_counts, color='red', alpha=0.7, label='Negative Tweets', ax=ax, bottom=merged_counts['positive_count'])\n",
    "plt.xlabel('Hour')\n",
    "plt.ylabel('Count')\n",
    "plt.title('Number of Positive and Negative Tweets by Hour (Stacked)')\n",
    "plt.legend()\n",
    "plt.show()"
   ]
  },
  {
   "cell_type": "code",
   "execution_count": 18,
   "id": "47e3a201-8c49-42cc-8d75-8dc28c46356f",
   "metadata": {
    "tags": []
   },
   "outputs": [
    {
     "data": {
      "image/png": "[encoded data removed]",
      "text/plain": [
       "<Figure size 640x480 with 1 Axes>"
      ]
     },
     "metadata": {},
     "output_type": "display_data"
    }
   ],
   "source": [
    "# Clearer to view percentage of positive tweets by hour\n",
    "positive_tweets_by_hour = positive_tweets.groupby('hour').size().reset_index(name='positive_count')\n",
    "total_tweets_by_hour = df.groupby('hour').size().reset_index(name='total_count')\n",
    "percentage_positive = (positive_tweets_by_hour['positive_count'] / total_tweets_by_hour['total_count']) * 100\n",
    "\n",
    "sns.barplot(x=positive_tweets_by_hour['hour'], y=percentage_positive)\n",
    "plt.xlabel('Hour')\n",
    "plt.ylabel('Percentage of Positive Tweets')\n",
    "plt.title('Percentage of Positive Tweets by Hour')\n",
    "plt.show()\n",
    "# positivity seem to spike at around midnight-2am and dips at around 3-5pm"
   ]
  },
  {
   "cell_type": "code",
   "execution_count": 19,
   "id": "f8b21ee1-ae07-4210-901a-516b3c55c82d",
   "metadata": {
    "tags": []
   },
   "outputs": [
    {
     "data": {
      "image/png": "[encoded data removed]",
      "text/plain": [
       "<Figure size 640x480 with 1 Axes>"
      ]
     },
     "metadata": {},
     "output_type": "display_data"
    },
    {
     "data": {
      "text/html": [
       "<div>\n",
       "<style scoped>\n",
       "    .dataframe tbody tr th:only-of-type {\n",
       "        vertical-align: middle;\n",
       "    }\n",
       "\n",
       "    .dataframe tbody tr th {\n",
       "        vertical-align: top;\n",
       "    }\n",
       "\n",
       "    .dataframe thead th {\n",
       "        text-align: right;\n",
       "    }\n",
       "</style>\n",
       "<table border=\"1\" class=\"dataframe\">\n",
       "  <thead>\n",
       "    <tr style=\"text-align: right;\">\n",
       "      <th></th>\n",
       "      <th>day</th>\n",
       "      <th>positive_count</th>\n",
       "      <th>total_count</th>\n",
       "      <th>percentage_positive</th>\n",
       "    </tr>\n",
       "  </thead>\n",
       "  <tbody>\n",
       "    <tr>\n",
       "      <th>20</th>\n",
       "      <td>23</td>\n",
       "      <td>95.0</td>\n",
       "      <td>17171</td>\n",
       "      <td>0.553258</td>\n",
       "    </tr>\n",
       "    <tr>\n",
       "      <th>21</th>\n",
       "      <td>25</td>\n",
       "      <td>98.0</td>\n",
       "      <td>19863</td>\n",
       "      <td>0.493380</td>\n",
       "    </tr>\n",
       "  </tbody>\n",
       "</table>\n",
       "</div>"
      ],
      "text/plain": [
       "    day  positive_count  total_count  percentage_positive\n",
       "20   23            95.0        17171             0.553258\n",
       "21   25            98.0        19863             0.493380"
      ]
     },
     "execution_count": 19,
     "metadata": {},
     "output_type": "execute_result"
    }
   ],
   "source": [
    "positive_tweets_by_day = positive_tweets.groupby('day').size().reset_index(name='positive_count')\n",
    "total_tweets_by_day = df.groupby('day').size().reset_index(name='total_count')\n",
    "\n",
    "merged_counts = positive_tweets_by_day.merge(total_tweets_by_day, on='day', how='outer')\n",
    "merged_counts['percentage_positive'] = (merged_counts['positive_count'] / merged_counts['total_count']) * 100\n",
    "\n",
    "sns.barplot(x=merged_counts['day'], y=merged_counts['percentage_positive'])\n",
    "plt.xlabel('Day')\n",
    "plt.ylabel('Percentage of Positive Tweets')\n",
    "plt.title('Percentage of Positive Tweets by Day')\n",
    "plt.show()\n",
    "\n",
    "#days 23,24, and 25 abnormal\n",
    "# 24 only have 800+ tweets with 0 positive tweets, 23 and 25 have abnormally low number of positive tweets\n",
    "merged_counts[merged_counts.day.isin([23, 25])]"
   ]
  },
  {
   "cell_type": "code",
   "execution_count": 20,
   "id": "020dd029-7cd3-4dbe-adc4-fe4aec01b31d",
   "metadata": {
    "tags": []
   },
   "outputs": [
    {
     "name": "stdout",
     "output_type": "stream",
     "text": [
      "760637    @sherrylam yeah no more millionaires will meet...\n",
      "759449    It's looking likely that I will have little or...\n",
      "763890    Whyyy didn't I take a nap when I got home? Sle...\n",
      "762327    @KimmyT22 So I'm not the only one pissed at he...\n",
      "770623    @oresteian And I thought growing up in NC was ...\n",
      "759414                                  Has a bad headache \n",
      "766867    @moneymello....no thats not a bad thing at all...\n",
      "773451    Weee I'm goin up north with my bffl sofia!!!!!...\n",
      "760380    mending fences.  Literally.  A tree fell acros...\n",
      "760004    @Bumatay Yes I did, it was so graphic! Such a ...\n",
      "Name: tweet_text, dtype: object\n"
     ]
    }
   ],
   "source": [
    "print(df[df['day'] == 23].tweet_text.sample(n=10, random_state=42))"
   ]
  },
  {
   "cell_type": "code",
   "execution_count": 62,
   "id": "d467263e-49cf-4e83-b0f5-f03d9bfc74a4",
   "metadata": {
    "tags": []
   },
   "outputs": [],
   "source": [
    "from sklearn.model_selection import cross_val_score\n",
    "from xgboost import XGBClassifier\n",
    "\n",
    "\n",
    "def score_dataset(X, y, model=XGBClassifier(n_estimators=50,\n",
    "                                            n_jobs=-1,\n",
    "                                            verbosity=2,)):  # Use XGBClassifier for classification\n",
    "    # Label encoding for categoricals\n",
    "    for colname in X.select_dtypes([\"category\", \"object\"]):\n",
    "        X[colname], _ = X[colname].factorize()\n",
    "    \n",
    "    # Metric for categorical classification can be accuracy or other appropriate metrics\n",
    "    score = cross_val_score(\n",
    "        model, X, y, cv=5, scoring=\"accuracy\", verbose=1, n_jobs=-1  # Use accuracy or other classification metrics\n",
    "    )\n",
    "    score = score.mean()\n",
    "    return score\n",
    "\n",
    "## Without cross_val_score\n",
    "from sklearn.model_selection import KFold\n",
    "\n",
    "def score_dataset_2(X, y, model=XGBClassifier(n_estimators=50, n_jobs=-1, verbosity=1)):\n",
    "    # Label encoding for categoricals\n",
    "    for colname in X.select_dtypes([\"category\", \"object\"]):\n",
    "        X[colname], _ = X[colname].factorize()\n",
    "\n",
    "    kf = KFold(n_splits=5)  # Define the number of folds for cross-validation\n",
    "    scores = []\n",
    "    \n",
    "    iteration = 1\n",
    "    for train_index, val_index in kf.split(X):\n",
    "        print(f\"CV Split {iteration}/5...\", end=\" \")\n",
    "        X_train, X_val = X.iloc[train_index], X.iloc[val_index]\n",
    "        y_train, y_val = y[train_index], y[val_index]\n",
    "\n",
    "        model.fit(X_train, y_train)  # Train the model for each fold\n",
    "        score = model.score(X_val, y_val)  # Calculate the score for the validation set\n",
    "        scores.append(score)\n",
    "        print(\"Accuracy: \",score)\n",
    "        iteration += 1\n",
    "\n",
    "    mean_score = np.mean(scores)  # Calculate the mean score across all folds\n",
    "    return mean_score"
   ]
  },
  {
   "cell_type": "code",
   "execution_count": 50,
   "id": "1c65c0f0-5b20-404c-99b1-e79f93bf607c",
   "metadata": {
    "tags": []
   },
   "outputs": [
    {
     "name": "stdout",
     "output_type": "stream",
     "text": [
      "Train set size: 1360000\n",
      "Validation set size: 240000\n",
      "Test set size: 240000\n"
     ]
    }
   ],
   "source": [
    "from sklearn.model_selection import train_test_split\n",
    "\n",
    "# Getting train, val, test splits\n",
    "# train_df, remaining_df = train_test_split(df, train_size=0.7, random_state=42)\n",
    "# val_df, test_df = train_test_split(remaining_df, train_size=0.5, random_state=42)\n",
    "\n",
    "# Getting train, test splits\n",
    "train_df, test_df = train_test_split(df, train_size=0.85, random_state=42)\n",
    "\n",
    "print(\"Train set size:\", len(train_df))\n",
    "print(\"Validation set size:\", len(val_df))\n",
    "print(\"Test set size:\", len(test_df))"
   ]
  },
  {
   "cell_type": "code",
   "execution_count": 51,
   "id": "3d4213a4-609f-4483-a4a1-e4a6370c2900",
   "metadata": {
    "tags": []
   },
   "outputs": [],
   "source": [
    "from sklearn.preprocessing import LabelEncoder\n",
    "label_encoder = LabelEncoder()\n",
    "\n",
    "train_X = train_df.copy()\n",
    "train_y = train_X.pop(\"target\")\n",
    "train_y_encoded = label_encoder.fit_transform(train_y)"
   ]
  },
  {
   "cell_type": "code",
   "execution_count": 63,
   "id": "a83cd31b-306c-4500-939d-818d05029ead",
   "metadata": {
    "tags": []
   },
   "outputs": [
    {
     "name": "stdout",
     "output_type": "stream",
     "text": [
      "CV Split 1/5... Accuracy:  0.6408051470588235\n",
      "CV Split 2/5... Accuracy:  0.6734007352941176\n",
      "CV Split 3/5... Accuracy:  0.6689742647058824\n",
      "CV Split 4/5... Accuracy:  0.6774558823529412\n",
      "CV Split 5/5... Accuracy:  0.6745367647058823\n"
     ]
    },
    {
     "data": {
      "text/plain": [
       "0.6670345588235295"
      ]
     },
     "execution_count": 63,
     "metadata": {},
     "output_type": "execute_result"
    }
   ],
   "source": [
    "score_dataset_2(train_X, train_y_encoded)"
   ]
  },
  {
   "cell_type": "code",
   "execution_count": 65,
   "id": "28771e98-d4d0-41b9-91e9-8a1627b11415",
   "metadata": {
    "tags": []
   },
   "outputs": [
    {
     "name": "stdout",
     "output_type": "stream",
     "text": [
      "<class 'pandas.core.frame.DataFrame'>\n",
      "RangeIndex: 1600000 entries, 0 to 1599999\n",
      "Data columns (total 7 columns):\n",
      " #   Column      Non-Null Count    Dtype \n",
      "---  ------      --------------    ----- \n",
      " 0   target      1600000 non-null  int64 \n",
      " 1   id          1600000 non-null  int64 \n",
      " 2   user        1600000 non-null  object\n",
      " 3   tweet_text  1600000 non-null  object\n",
      " 4   day         1600000 non-null  int32 \n",
      " 5   month       1600000 non-null  int32 \n",
      " 6   hour        1600000 non-null  int32 \n",
      "dtypes: int32(3), int64(2), object(2)\n",
      "memory usage: 67.1+ MB\n"
     ]
    }
   ],
   "source": [
    "df.info()"
   ]
  },
  {
   "cell_type": "markdown",
   "id": "0a0ab467-2e0c-4490-b05b-06dee0666480",
   "metadata": {},
   "source": [
    "### Preprocessing Tweets"
   ]
  },
  {
   "cell_type": "code",
   "execution_count": 9,
   "id": "55e043a3-b44b-46ac-8d63-f9e78027bbc7",
   "metadata": {
    "tags": []
   },
   "outputs": [
    {
     "name": "stderr",
     "output_type": "stream",
     "text": [
      "[nltk_data] Downloading package stopwords to /home/mrdot/nltk_data...\n",
      "[nltk_data]   Package stopwords is already up-to-date!\n",
      "[nltk_data] Downloading package punkt to /home/mrdot/nltk_data...\n",
      "[nltk_data]   Package punkt is already up-to-date!\n",
      "[nltk_data] Downloading package wordnet to /home/mrdot/nltk_data...\n",
      "[nltk_data]   Package wordnet is already up-to-date!\n"
     ]
    },
    {
     "data": {
      "text/plain": [
       "True"
      ]
     },
     "execution_count": 9,
     "metadata": {},
     "output_type": "execute_result"
    }
   ],
   "source": [
    "import nltk\n",
    "from nltk.corpus import stopwords\n",
    "from nltk.tokenize import word_tokenize\n",
    "from nltk.stem import WordNetLemmatizer\n",
    "import string\n",
    "\n",
    "nltk.download('stopwords')\n",
    "nltk.download('punkt')\n",
    "nltk.download('wordnet')"
   ]
  },
  {
   "cell_type": "code",
   "execution_count": 10,
   "id": "f5f0a815-e19c-40bf-85b3-7e32f69de3e0",
   "metadata": {
    "tags": []
   },
   "outputs": [],
   "source": [
    "lemmatizer = WordNetLemmatizer()\n",
    "\n",
    "def preprocess_text(text):\n",
    "    # remove punctuations\n",
    "    text = text.translate(str.maketrans('', '', string.punctuation))\n",
    "    # tokenize text\n",
    "    tokens = word_tokenize(text)\n",
    "    # removing stopwords\n",
    "    stop_words = set(stopwords.words('english'))\n",
    "    tokens = [token for token in tokens if token.lower() not in stop_words]\n",
    "    # lemmatize tokens\n",
    "    tokens = [lemmatizer.lemmatize(token) for token in tokens]\n",
    "    \n",
    "    return tokens"
   ]
  },
  {
   "cell_type": "code",
   "execution_count": 11,
   "id": "c09ab376-863d-4cd2-b1bb-70e3c06eaab8",
   "metadata": {
    "tags": []
   },
   "outputs": [
    {
     "name": "stderr",
     "output_type": "stream",
     "text": [
      "Preprocessing Text: 100%|███████████████████████████████████████████████████| 1600000/1600000 [04:12<00:00, 6328.18it/s]\n"
     ]
    }
   ],
   "source": [
    "from tqdm import tqdm\n",
    "\n",
    "# Running this line will avoid tqdm printing multiple lines in Jupyter Lab\n",
    "tqdm._instances.clear()\n",
    "\n",
    "pbar = tqdm(total=len(df),desc=\"Preprocessing Text\")\n",
    "\n",
    "def preprocess_with_progress(text):\n",
    "    cleaned_text = preprocess_text(text)\n",
    "    pbar.update(1)\n",
    "    \n",
    "    return cleaned_text\n",
    "\n",
    "df['cleaned_text'] = df['tweet_text'].apply(preprocess_with_progress)\n",
    "\n",
    "pbar.close()"
   ]
  },
  {
   "cell_type": "code",
   "execution_count": 12,
   "id": "33214454-734a-49b2-b3eb-315752418fc7",
   "metadata": {
    "tags": []
   },
   "outputs": [
    {
     "name": "stdout",
     "output_type": "stream",
     "text": [
      "Cleaned tweets from positive category:\n",
      "1448659    [25, mile, workout, Last, 12, mile, nearly, ki...\n",
      "868809     [hoshin, cool, stuff, Never, FF, though, much,...\n",
      "1161518    [teatotally, hate, warm, weather, going, sandw...\n",
      "951976                                    [Got, number, bar]\n",
      "1222926                             [cate1987, done, thanks]\n",
      "Name: cleaned_text, dtype: object\n",
      "Cleaned tweets from negative category:\n",
      "96178                                       [hate, morning]\n",
      "551291                                   [Ouch, ouch, ouch]\n",
      "441997    [AdamHoban, Didnt, get, chance, fair, bir, awa...\n",
      "575143    [waitingword, Thanks, girrl, Hope, come, sens,...\n",
      "400760    [mattmcnabb, upset, missed, call, Try, 100, ti...\n",
      "Name: cleaned_text, dtype: object\n"
     ]
    }
   ],
   "source": [
    "# 5 cleaned tweets from positive category\n",
    "print(\"Cleaned tweets from positive category:\")\n",
    "print(df[df['target'] == 4]['cleaned_text'].sample(n=5))\n",
    "\n",
    "# 5 cleaned tweets from negative category\n",
    "print(\"Cleaned tweets from negative category:\")\n",
    "print(df[df['target'] == 0]['cleaned_text'].sample(n=5))"
   ]
  },
  {
   "cell_type": "code",
   "execution_count": 13,
   "id": "da34d4d7-b258-4fc4-b6b2-88874aa304c5",
   "metadata": {
    "tags": []
   },
   "outputs": [],
   "source": [
    "df['non_tokenized_cleaned'] = df['cleaned_text'].apply(lambda tokens: ' '.join(tokens))"
   ]
  },
  {
   "cell_type": "code",
   "execution_count": 14,
   "id": "ad9540a1-642a-4a4c-8383-e0975f06fe80",
   "metadata": {
    "tags": []
   },
   "outputs": [
    {
     "data": {
      "text/plain": [
       "0    switchfoot httptwitpiccom2y1zl Awww thats bumm...\n",
       "1    upset cant update Facebook texting might cry r...\n",
       "2    Kenichan dived many time ball Managed save 50 ...\n",
       "3                      whole body feel itchy like fire\n",
       "4             nationwideclass behaving im mad cant see\n",
       "Name: non_tokenized_cleaned, dtype: object"
      ]
     },
     "execution_count": 14,
     "metadata": {},
     "output_type": "execute_result"
    }
   ],
   "source": [
    "df.non_tokenized_cleaned.head()"
   ]
  },
  {
   "cell_type": "code",
   "execution_count": 16,
   "id": "0347f979-48e4-454a-922a-d3da2a916bf8",
   "metadata": {
    "tags": []
   },
   "outputs": [],
   "source": [
    "from sklearn.feature_extraction.text import TfidfVectorizer\n",
    "from sklearn.model_selection import train_test_split\n",
    "\n",
    "train_df, test_df = train_test_split(df, test_size=0.3, random_state=42)\n",
    "\n",
    "vectorizer = TfidfVectorizer()\n",
    "tfidf_train = vectorizer.fit_transform(train_df['non_tokenized_cleaned'])\n",
    "# transform the test data using the fitted vectorizer\n",
    "tfidf_test = vectorizer.transform(test_df['non_tokenized_cleaned'])"
   ]
  },
  {
   "cell_type": "code",
   "execution_count": 120,
   "id": "791433d6-ad1c-445a-8649-97c874ae8929",
   "metadata": {
    "tags": []
   },
   "outputs": [],
   "source": [
    "from sklearn.linear_model import LogisticRegression\n",
    "from sklearn.svm import LinearSVC\n",
    "from sklearn.metrics import accuracy_score\n",
    "from sklearn.model_selection import KFold\n",
    "\n",
    "def score_tfidf(tfidf, target):\n",
    "    kf = KFold(n_splits=5, shuffle=True, random_state=42)\n",
    "    logreg_accs = []\n",
    "    svm_accs = []\n",
    "    \n",
    "    splits = 1\n",
    "    for train_index, test_index in kf.split(tfidf):\n",
    "        print(f\"Split {splits}...\")\n",
    "        X_train, X_test = tfidf[train_index], tfidf[test_index]\n",
    "        y_train, y_test = target[train_index], target[test_index]\n",
    "\n",
    "        # Logistic Regression\n",
    "        logreg = LogisticRegression(n_jobs=-1, random_state=42, max_iter=400)\n",
    "        logreg.fit(X_train, y_train)\n",
    "        logreg_pred = logreg.predict(X_test)\n",
    "        logreg_acc = accuracy_score(y_test, logreg_pred)\n",
    "        logreg_accs.append(logreg_acc)\n",
    "        print(f\"Logistic Regression: {logreg_acc}%\")\n",
    "        \n",
    "        # Linear SVM\n",
    "        svm = LinearSVC(random_state=42)\n",
    "        svm.fit(X_train, y_train)\n",
    "        svm_pred = svm.predict(X_test)\n",
    "        svm_acc = accuracy_score(y_test, svm_pred)\n",
    "        svm_accs.append(svm_acc)\n",
    "        print(f\"SVM: {svm_acc}%\")\n",
    "        \n",
    "        splits += 1\n",
    "\n",
    "    logreg_mean_acc = sum(logreg_accs) / len(logreg_accs)\n",
    "    svm_mean_acc = sum(svm_accs) / len(svm_accs)\n",
    "\n",
    "    return logreg_mean_acc, svm_mean_acc"
   ]
  },
  {
   "cell_type": "code",
   "execution_count": null,
   "id": "ab27c337-b1bb-4a9f-9c81-19b3a497a1bc",
   "metadata": {
    "tags": []
   },
   "outputs": [],
   "source": [
    "tfidf = vectorizer.fit_transform(df['non_tokenized_cleaned'])\n",
    "logreg_acc, svm_acc = score_tfidf(tfidf, df['target'])\n",
    "print(\"Logistic Regression Accuracy:\", logreg_acc)\n",
    "print(\"Linear SVM Accuracy:\", svm_acc)"
   ]
  },
  {
   "cell_type": "code",
   "execution_count": 133,
   "id": "401bfdae-944a-4f4a-a52c-c6dc645a5595",
   "metadata": {
    "tags": []
   },
   "outputs": [],
   "source": [
    "from sklearn.model_selection import train_test_split\n",
    "\n",
    "# test with only small proportion of data first \n",
    "_, tfidf_small, _, target_small = train_test_split(\n",
    "    tfidf, df['target'], test_size=0.05, random_state=42\n",
    ")\n",
    "\n",
    "target_small = target_small.reset_index(drop=True)"
   ]
  },
  {
   "cell_type": "code",
   "execution_count": 134,
   "id": "d3b901d7-7e7f-4555-a94a-816d0c47c6c2",
   "metadata": {
    "tags": []
   },
   "outputs": [
    {
     "name": "stdout",
     "output_type": "stream",
     "text": [
      "Split 1...\n",
      "Logistic Regression: 0.763%\n",
      "SVM: 0.7534375%\n",
      "Split 2...\n",
      "Logistic Regression: 0.76875%\n",
      "SVM: 0.758375%\n",
      "Split 3...\n",
      "Logistic Regression: 0.7630625%\n",
      "SVM: 0.7523125%\n",
      "Split 4...\n",
      "Logistic Regression: 0.766375%\n",
      "SVM: 0.753375%\n",
      "Split 5...\n",
      "Logistic Regression: 0.76175%\n",
      "SVM: 0.748125%\n",
      "Logistic Regression Accuracy: 0.7645875\n",
      "Linear SVM Accuracy: 0.753125\n"
     ]
    }
   ],
   "source": [
    "logreg_acc, svm_acc = score_tfidf(tfidf_small, target_small)\n",
    "print(\"Logistic Regression Accuracy:\", logreg_acc)\n",
    "print(\"Linear SVM Accuracy:\", svm_acc)"
   ]
  },
  {
   "cell_type": "code",
   "execution_count": 144,
   "id": "1415a1fa-0c4c-45de-86f9-d2998590bf9e",
   "metadata": {
    "tags": []
   },
   "outputs": [
    {
     "name": "stdout",
     "output_type": "stream",
     "text": [
      "  (0, 134176)\t0.7181481296687328\n",
      "  (0, 28303)\t0.4926862200903165\n",
      "  (0, 295941)\t0.32001183149596735\n",
      "  (0, 559674)\t0.37298254662787367\n",
      "  (1, 626217)\t0.5779318313798869\n",
      "  (1, 509869)\t0.6074491180941175\n",
      "  (1, 52431)\t0.3974734884889457\n",
      "  (1, 149654)\t0.26695329255506195\n",
      "  (1, 768150)\t0.26029047763413926\n",
      "  (2, 442901)\t0.4651827949397626\n",
      "  (2, 747391)\t0.4522571753966246\n",
      "  (2, 429452)\t0.2917557565561616\n",
      "  (2, 687355)\t0.2985082484684845\n",
      "  (2, 802634)\t0.24759736558638296\n",
      "  (2, 194319)\t0.2656062637627937\n",
      "  (2, 277413)\t0.22915518413827224\n",
      "  (2, 541045)\t0.17457393732741014\n",
      "  (2, 272636)\t0.1745809435912257\n",
      "  (2, 225943)\t0.2020366488776743\n",
      "  (2, 434024)\t0.14155019150091494\n",
      "  (2, 371265)\t0.15780224159076925\n",
      "  (2, 113866)\t0.19647139593746724\n",
      "  (2, 455130)\t0.12906518020016805\n",
      "  (2, 748970)\t0.13603812046066205\n",
      "  (3, 635960)\t0.3958997048619704\n",
      "  :\t:\n",
      "  (79997, 727452)\t0.4163369710600077\n",
      "  (79997, 821061)\t0.4163369710600077\n",
      "  (79997, 100948)\t0.4163369710600077\n",
      "  (79997, 674200)\t0.32687772787285396\n",
      "  (79997, 112523)\t0.33550214755455077\n",
      "  (79997, 269068)\t0.26841471684388385\n",
      "  (79997, 487200)\t0.2614941553651403\n",
      "  (79997, 764724)\t0.1917376791925567\n",
      "  (79997, 133769)\t0.2302122626081247\n",
      "  (79997, 381695)\t0.1743363490695196\n",
      "  (79998, 127743)\t0.6460466052192999\n",
      "  (79998, 743154)\t0.5794567192801031\n",
      "  (79998, 272636)\t0.24245829203055225\n",
      "  (79998, 542029)\t0.23301032462014215\n",
      "  (79998, 58726)\t0.3084285101562105\n",
      "  (79998, 434024)\t0.19658513101102476\n",
      "  (79999, 138539)\t0.5269564755940747\n",
      "  (79999, 667133)\t0.30956668702250006\n",
      "  (79999, 811882)\t0.3552353579869829\n",
      "  (79999, 229483)\t0.34943647998770605\n",
      "  (79999, 381958)\t0.29529701958119203\n",
      "  (79999, 550986)\t0.2934188702023929\n",
      "  (79999, 264004)\t0.2917827389110628\n",
      "  (79999, 763144)\t0.26168064317943524\n",
      "  (79999, 219120)\t0.2264474267891305\n"
     ]
    }
   ],
   "source": [
    "print(tfidf_small)"
   ]
  },
  {
   "cell_type": "code",
   "execution_count": 145,
   "id": "ca47a88b-9c20-49fc-ae13-26ec8d008c57",
   "metadata": {
    "tags": []
   },
   "outputs": [
    {
     "data": {
      "text/plain": [
       "0        0\n",
       "1        0\n",
       "2        0\n",
       "3        0\n",
       "4        0\n",
       "        ..\n",
       "79995    0\n",
       "79996    4\n",
       "79997    4\n",
       "79998    4\n",
       "79999    4\n",
       "Name: target, Length: 80000, dtype: int64"
      ]
     },
     "execution_count": 145,
     "metadata": {},
     "output_type": "execute_result"
    }
   ],
   "source": [
    "target_small"
   ]
  },
  {
   "cell_type": "code",
   "execution_count": 148,
   "id": "b267a1b7-1940-4b07-80d8-fca41c2e7c13",
   "metadata": {
    "tags": []
   },
   "outputs": [],
   "source": [
    "import pickle\n",
    "import os\n",
    "\n",
    "positive_tweets = df[df['target'] == 4]\n",
    "negative_tweets = df[df['target'] == 0]\n",
    "\n",
    "total_samples = int(len(df) * 0.1)\n",
    "positive_samples = total_samples // 2\n",
    "negative_samples = total_samples - positive_samples\n",
    "\n",
    "positive_sample = positive_tweets.sample(positive_samples)\n",
    "negative_sample = negative_tweets.sample(negative_samples)\n",
    "\n",
    "sample_df = pd.concat([positive_sample, negative_sample])\n",
    "\n",
    "folder_path = 'streamlit'\n",
    "file_path = os.path.join(folder_path, 'sample_data.pickle')\n",
    "with open(file_path, 'wb') as f:\n",
    "    pickle.dump(sample_df, f)"
   ]
  },
  {
   "cell_type": "code",
   "execution_count": 19,
   "id": "14dfa038-e837-41b6-806d-4beaa19fa90a",
   "metadata": {
    "tags": []
   },
   "outputs": [],
   "source": [
    "train_X = tfidf_train\n",
    "train_y = train_df['target']\n",
    "test_X = tfidf_test\n",
    "text_y = test_df['target']"
   ]
  },
  {
   "cell_type": "code",
   "execution_count": 26,
   "id": "af2ec14b-1876-4b46-ac05-1507612c94a7",
   "metadata": {
    "tags": []
   },
   "outputs": [],
   "source": [
    "trainx, _, trainy, _ = train_test_split(train_X, train_y, train_size=0.1, random_state=42)"
   ]
  },
  {
   "cell_type": "code",
   "execution_count": 27,
   "id": "8fa52402-e5c2-4e51-bcc4-52b86274a43a",
   "metadata": {
    "tags": []
   },
   "outputs": [
    {
     "name": "stdout",
     "output_type": "stream",
     "text": [
      "Fitting 5 folds for each of 1 candidates, totalling 5 fits\n"
     ]
    }
   ],
   "source": [
    "from sklearn.model_selection import GridSearchCV\n",
    "from sklearn.pipeline import Pipeline\n",
    "from sklearn.linear_model import LogisticRegression\n",
    "from sklearn.model_selection import KFold\n",
    "\n",
    "pipeline = Pipeline([\n",
    "    ('logreg', LogisticRegression(random_state=42, max_iter=500, n_jobs=-1))\n",
    "])\n",
    "\n",
    "param_grid = {\n",
    "    'logreg__C': [1]\n",
    "}\n",
    "\n",
    "grid_search = GridSearchCV(pipeline, param_grid, cv=5, verbose=3, n_jobs=-1)\n",
    "grid_search.fit(trainx, trainy)\n",
    "\n",
    "best_logreg_model = grid_search.best_estimator_"
   ]
  },
  {
   "cell_type": "code",
   "execution_count": 44,
   "id": "4a0d9a6b-053b-42ef-8543-73acd1d1d748",
   "metadata": {
    "tags": []
   },
   "outputs": [],
   "source": [
    "import pickle\n",
    "with open('streamlit/tfidf_logreg_model.pickle', 'wb') as f:\n",
    "    pickle.dump(best_logreg_model, f)"
   ]
  },
  {
   "cell_type": "code",
   "execution_count": 46,
   "id": "694c29c4-5009-476e-a796-f77b54cd1a30",
   "metadata": {
    "tags": []
   },
   "outputs": [],
   "source": [
    "import pickle\n",
    "with open('streamlit/vectorizer.pickle', 'wb') as f:\n",
    "    pickle.dump(vectorizer, f)"
   ]
  },
  {
   "cell_type": "code",
   "execution_count": 31,
   "id": "cbe5992b-57ee-420d-8bce-ea11e4604ba3",
   "metadata": {
    "tags": []
   },
   "outputs": [],
   "source": [
    "# Function to predict the probability of a tweet being positive\n",
    "def predict_tweet_probability(tweet):\n",
    "    cleaned_tweet = preprocess_text(tweet)\n",
    "    print(cleaned_tweet)\n",
    "    cleaned_tweet = ' '.join(cleaned_tweet)\n",
    "    print(cleaned_tweet)\n",
    "    transformed_tweet = vectorizer.transform([cleaned_tweet])\n",
    "    # Predict the probability of the tweet being positive\n",
    "    probability = best_logreg_model.predict_proba(transformed_tweet)[:, 1]\n",
    "    return probability[0]"
   ]
  },
  {
   "cell_type": "code",
   "execution_count": 43,
   "id": "64cb147d-8fe2-46bc-8dc1-945c9d2fdb3b",
   "metadata": {
    "tags": []
   },
   "outputs": [
    {
     "name": "stdout",
     "output_type": "stream",
     "text": [
      "['hate', 'woman', 'like']\n",
      "hate woman like\n",
      "Probability that the tweet is negative: 93.2%\n"
     ]
    }
   ],
   "source": [
    "tweet = \"I hate most women but like some\"\n",
    "probability = predict_tweet_probability(tweet)\n",
    "\n",
    "if probability > 0.5:\n",
    "    print(f\"Probability that the tweet is positive: {probability * 100:.3g}%\")\n",
    "else:\n",
    "    print(f\"Probability that the tweet is negative: {(1 - probability) * 100:.3g}%\")"
   ]
  },
  {
   "cell_type": "code",
   "execution_count": 48,
   "id": "773a1bd1-3fb0-472a-a806-bafa15e70438",
   "metadata": {
    "tags": []
   },
   "outputs": [
    {
     "name": "stdout",
     "output_type": "stream",
     "text": [
      "1.2.2\n"
     ]
    }
   ],
   "source": [
    "import sklearn\n",
    "print(sklearn.__version__)"
   ]
  }
 ],
 "metadata": {
  "kernelspec": {
   "display_name": "Python 3 (ipykernel)",
   "language": "python",
   "name": "python3"
  },
  "language_info": {
   "codemirror_mode": {
    "name": "ipython",
    "version": 3
   },
   "file_extension": ".py",
   "mimetype": "text/x-python",
   "name": "python",
   "nbconvert_exporter": "python",
   "pygments_lexer": "ipython3",
   "version": "3.10.6"
  }
 },
 "nbformat": 4,
 "nbformat_minor": 5
}
