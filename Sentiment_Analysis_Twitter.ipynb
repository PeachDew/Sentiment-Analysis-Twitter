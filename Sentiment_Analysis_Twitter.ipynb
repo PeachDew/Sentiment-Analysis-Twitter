{
 "cells": [
  {
   "cell_type": "code",
   "execution_count": 1,
   "id": "e8f9f4de-571a-4973-a428-39aa5f0d08a7",
   "metadata": {
    "tags": []
   },
   "outputs": [],
   "source": [
    "import pandas as pd\n",
    "import matplotlib.pyplot as plt\n",
    "import seaborn as sns\n",
    "import numpy as np"
   ]
  },
  {
   "cell_type": "code",
   "execution_count": 2,
   "id": "c0ff8e9f-4519-46af-83ae-e49f862b07a9",
   "metadata": {
    "tags": []
   },
   "outputs": [
    {
     "data": {
      "text/plain": [
       "<bound method NDFrame.head of          target          id                          date      flag   \n",
       "0             0  1467810369  Mon Apr 06 22:19:45 PDT 2009  NO_QUERY  \\\n",
       "1             0  1467810672  Mon Apr 06 22:19:49 PDT 2009  NO_QUERY   \n",
       "2             0  1467810917  Mon Apr 06 22:19:53 PDT 2009  NO_QUERY   \n",
       "3             0  1467811184  Mon Apr 06 22:19:57 PDT 2009  NO_QUERY   \n",
       "4             0  1467811193  Mon Apr 06 22:19:57 PDT 2009  NO_QUERY   \n",
       "...         ...         ...                           ...       ...   \n",
       "1599995       4  2193601966  Tue Jun 16 08:40:49 PDT 2009  NO_QUERY   \n",
       "1599996       4  2193601969  Tue Jun 16 08:40:49 PDT 2009  NO_QUERY   \n",
       "1599997       4  2193601991  Tue Jun 16 08:40:49 PDT 2009  NO_QUERY   \n",
       "1599998       4  2193602064  Tue Jun 16 08:40:49 PDT 2009  NO_QUERY   \n",
       "1599999       4  2193602129  Tue Jun 16 08:40:50 PDT 2009  NO_QUERY   \n",
       "\n",
       "                    user                                         tweet_text  \n",
       "0        _TheSpecialOne_  @switchfoot http://twitpic.com/2y1zl - Awww, t...  \n",
       "1          scotthamilton  is upset that he can't update his Facebook by ...  \n",
       "2               mattycus  @Kenichan I dived many times for the ball. Man...  \n",
       "3                ElleCTF    my whole body feels itchy and like its on fire   \n",
       "4                 Karoli  @nationwideclass no, it's not behaving at all....  \n",
       "...                  ...                                                ...  \n",
       "1599995  AmandaMarie1028  Just woke up. Having no school is the best fee...  \n",
       "1599996      TheWDBoards  TheWDB.com - Very cool to hear old Walt interv...  \n",
       "1599997           bpbabe  Are you ready for your MoJo Makeover? Ask me f...  \n",
       "1599998     tinydiamondz  Happy 38th Birthday to my boo of alll time!!! ...  \n",
       "1599999   RyanTrevMorris  happy #charitytuesday @theNSPCC @SparksCharity...  \n",
       "\n",
       "[1600000 rows x 6 columns]>"
      ]
     },
     "execution_count": 2,
     "metadata": {},
     "output_type": "execute_result"
    }
   ],
   "source": [
    "df = pd.read_csv('twitter_data/tweets.csv', encoding=\"ISO-8859-1\",\n",
    "                 names=['target','id','date','flag','user','tweet_text'])\n",
    "df.head"
   ]
  },
  {
   "cell_type": "code",
   "execution_count": 32,
   "id": "e87b88e4-08f1-416e-8d28-cbe059ad3265",
   "metadata": {
    "tags": []
   },
   "outputs": [
    {
     "name": "stdout",
     "output_type": "stream",
     "text": [
      "<class 'pandas.core.frame.DataFrame'>\n",
      "RangeIndex: 1600000 entries, 0 to 1599999\n",
      "Data columns (total 6 columns):\n",
      " #   Column      Non-Null Count    Dtype \n",
      "---  ------      --------------    ----- \n",
      " 0   target      1600000 non-null  int64 \n",
      " 1   id          1600000 non-null  int64 \n",
      " 2   date        1600000 non-null  object\n",
      " 3   flag        1600000 non-null  object\n",
      " 4   user        1600000 non-null  object\n",
      " 5   tweet_text  1600000 non-null  object\n",
      "dtypes: int64(2), object(4)\n",
      "memory usage: 73.2+ MB\n"
     ]
    }
   ],
   "source": [
    "# No missing values, nice!\n",
    "df.info()"
   ]
  },
  {
   "cell_type": "markdown",
   "id": "bf531d07-2835-453d-9f49-7c94dc92f1ff",
   "metadata": {},
   "source": [
    "### Some Basic EDA"
   ]
  },
  {
   "cell_type": "code",
   "execution_count": 34,
   "id": "f1dc9715-d9ab-47d0-b8a1-ef31d49bca06",
   "metadata": {
    "tags": []
   },
   "outputs": [
    {
     "data": {
      "image/png": "[encoded data removed]",
      "text/plain": [
       "<Figure size 640x480 with 1 Axes>"
      ]
     },
     "metadata": {},
     "output_type": "display_data"
    }
   ],
   "source": [
    "sns.countplot(data=df, x='target')\n",
    "plt.xlabel('Sentiment Class')\n",
    "plt.ylabel('Count')\n",
    "plt.title('Target Distribution')\n",
    "plt.show()"
   ]
  },
  {
   "cell_type": "code",
   "execution_count": 46,
   "id": "eaaa48ba-d058-4b79-8dfb-2edbd19910dd",
   "metadata": {
    "tags": []
   },
   "outputs": [
    {
     "name": "stdout",
     "output_type": "stream",
     "text": [
      "##TWEET 1:## Is lookin 4ward to a long weekend  really dont want to go to work 2day tho =[ x\n",
      "##TWEET 2:## #myweakness  Is music and i live to meet the people who make it \n",
      "##TWEET 3:## figured out the Internet on my new iPod \n",
      "##TWEET 4:## @hillsongunited can't wait to worship with you guys tonight. it'll be so much fun \n",
      "##TWEET 5:## @sillybeggar Congrats James !! I'm sure the book is going to be a huge success \n",
      "##TWEET 6:## @DebbyBruck beautiful! when children smile the world smiles \n",
      "##TWEET 7:## @bethofalltrades http://twitpic.com/69bs9 - happy birthday! \n",
      "##TWEET 8:## @ad_infinitum Why yes, I can. The Ultimate Vegan Guide by Eric Marcus: http://bit.ly/rQp7n You can always ask me anything, you know. \n",
      "##TWEET 9:## getting all the writing off of mee. fun nightt \n",
      "##TWEET 10:## @noopman Remote? I prefer to be on site.  There's no substitute for working with people in person\n"
     ]
    }
   ],
   "source": [
    "good_tweets = df.loc[df['target'] == 4, 'tweet_text'].sample(n=10, random_state=42)\n",
    "for i, tweet in enumerate(good_tweets.tolist()):\n",
    "    print(f\"##TWEET {i+1}:## {tweet}\")"
   ]
  },
  {
   "cell_type": "code",
   "execution_count": 48,
   "id": "4cb7ef19-c890-41ee-8e23-8cbf3b33209c",
   "metadata": {
    "tags": []
   },
   "outputs": [
    {
     "name": "stdout",
     "output_type": "stream",
     "text": [
      "##TWEET 1:## @xnausikaax oh no! where did u order from? that's horrible \n",
      "##TWEET 2:## A great hard training weekend is over.  a couple days of rest and lets do it again!  Lots of computer time to put in now \n",
      "##TWEET 3:## Right, off to work  Only 5 hours to go until I'm free xD\n",
      "##TWEET 4:## I am craving for japanese food \n",
      "##TWEET 5:## Jean Michel Jarre concert tomorrow  gotta work 7-3 before though \n",
      "##TWEET 6:## @xPowxBangxBoomx dammiitt!! i wish i had MTV \n",
      "##TWEET 7:## @Rohan_01 You know..it's really sad that u know that ur classmate don't care about you..        sad memories T.T\n",
      "##TWEET 8:## @FaketragedyCom i know \n",
      "##TWEET 9:## @JudahGabriel i wish i had that much to say \n",
      "##TWEET 10:## ow, i can't move my neck or my back   hurts too much and i don't know why D:\n"
     ]
    }
   ],
   "source": [
    "bad_tweets = df.loc[df['target'] == 0, 'tweet_text'].sample(n=10, random_state=42)\n",
    "for i, tweet in enumerate(bad_tweets.tolist()):\n",
    "    print(f\"##TWEET {i+1}:## {tweet}\")"
   ]
  }
 ],
 "metadata": {
  "kernelspec": {
   "display_name": "Python 3 (ipykernel)",
   "language": "python",
   "name": "python3"
  },
  "language_info": {
   "codemirror_mode": {
    "name": "ipython",
    "version": 3
   },
   "file_extension": ".py",
   "mimetype": "text/x-python",
   "name": "python",
   "nbconvert_exporter": "python",
   "pygments_lexer": "ipython3",
   "version": "3.10.6"
  }
 },
 "nbformat": 4,
 "nbformat_minor": 5
}
